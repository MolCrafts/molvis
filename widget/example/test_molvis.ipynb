{
 "cells": [
  {
   "cell_type": "code",
   "execution_count": 18,
   "metadata": {},
   "outputs": [],
   "source": [
    "import molpy as mp\n",
    "import molvis as mv\n",
    "import numpy as np\n",
    "\n",
    "import logging\n",
    "logging.basicConfig(level=logging.INFO)"
   ]
  },
  {
   "cell_type": "code",
   "execution_count": 19,
   "metadata": {},
   "outputs": [
    {
     "data": {
      "text/plain": [
       "{'atoms':     id name resName chainID  resSeq      x      y      z element\n",
       " 0    0    C     TFS               1 -7.997  2.077 -0.159       C\n",
       " 1    1    S     TFS               1 -6.861  0.670  0.114       S\n",
       " 2    2    F     TFS               1 -8.190  2.350 -1.483       F\n",
       " 3    3   F1     TFS               1 -7.510  3.234  0.387       F\n",
       " 4    4    N     TFS               1 -5.598  1.288 -0.538       N\n",
       " 5    5   S1     TFS               1 -4.898  0.345 -1.592       S\n",
       " 6    6   C1     TFS               1 -3.879  1.651 -2.364       C\n",
       " 7    7   F3     TFS               1 -4.647  2.571 -3.023       F\n",
       " 8    8   F4     TFS               1 -2.984  1.174 -3.275       F\n",
       " 9    9   F5     TFS               1 -3.156  2.362 -1.448       F\n",
       " 10  10    O     TFS               1 -6.770  0.523  1.572       O\n",
       " 11  11   O1     TFS               1 -3.939 -0.618 -1.042       O\n",
       " 12  12   O2     TFS               1 -5.721 -0.159 -2.692       O\n",
       " 13  13   O3     TFS               1 -7.491 -0.469 -0.552       O\n",
       " 14  14   F2     TFS               1 -9.224  1.949  0.347       F,\n",
       " 'bonds':     i   j\n",
       " 0   0   1\n",
       " 1   0   2\n",
       " 2   0   3\n",
       " 3   0  14\n",
       " 4   1   4\n",
       " 5   1  10\n",
       " 6   1  13\n",
       " 7   4   5\n",
       " 8   5   6\n",
       " 9   5  11\n",
       " 10  5  12\n",
       " 11  6   7\n",
       " 12  6   8\n",
       " 13  6   9}"
      ]
     },
     "execution_count": 19,
     "metadata": {},
     "output_type": "execute_result"
    }
   ],
   "source": [
    "tfsi = mp.io.read_pdb('./tfsi.pdb')\n",
    "tfsi.frame"
   ]
  },
  {
   "cell_type": "code",
   "execution_count": 20,
   "metadata": {},
   "outputs": [],
   "source": [
    "canvas = mv.Molvis()"
   ]
  },
  {
   "cell_type": "code",
   "execution_count": 21,
   "metadata": {},
   "outputs": [
    {
     "name": "stderr",
     "output_type": "stream",
     "text": [
      "INFO:molvis-widget-py:send_cmd: {'jsonrpc': '2.0', 'method': 'draw_frame', 'params': {'frame': {'atoms': {'name': ['C', 'S', 'F', 'F1', 'N', 'S1', 'C1', 'F3', 'F4', 'F5', 'O', 'O1', 'O2', 'O3', 'F2'], 'x': [-7.997, -6.861, -8.19, -7.51, -5.598, -4.898, -3.879, -4.647, -2.984, -3.156, -6.77, -3.939, -5.721, -7.491, -9.224], 'y': [2.077, 0.67, 2.35, 3.234, 1.288, 0.345, 1.651, 2.571, 1.174, 2.362, 0.523, -0.618, -0.159, -0.469, 1.949], 'z': [-0.159, 0.114, -1.483, 0.387, -0.538, -1.592, -2.364, -3.023, -3.275, -1.448, 1.572, -1.042, -2.692, -0.552, 0.347], 'element': ['C', 'S', 'F', 'F', 'N', 'S', 'C', 'F', 'F', 'F', 'O', 'O', 'O', 'O', 'F'], 'id': [0, 1, 2, 3, 4, 5, 6, 7, 8, 9, 10, 11, 12, 13, 14]}, 'bonds': {'i': [0, 0, 0, 0, 1, 1, 1, 4, 5, 5, 5, 6, 6, 6], 'j': [1, 2, 3, 14, 4, 10, 13, 5, 6, 11, 12, 7, 8, 9]}}}}\n",
      "INFO:molvis-widget-py:send_cmd: {'jsonrpc': '2.0', 'method': 'label_atom', 'params': {'labels': [0, 1, 2, 3, 4, 5, 6, 7, 8, 9, 10, 11, 12, 13, 14]}}\n"
     ]
    },
    {
     "data": {
      "application/vnd.jupyter.widget-view+json": {
       "model_id": "85feabcbb3b34039afe50b459826dd6c",
       "version_major": 2,
       "version_minor": 1
      },
      "text/plain": [
       "Molvis()"
      ]
     },
     "execution_count": 21,
     "metadata": {},
     "output_type": "execute_result"
    }
   ],
   "source": [
    "canvas.draw_frame(tfsi.frame, extra_atom_props=['element', 'id'], label='id')"
   ]
  },
  {
   "cell_type": "code",
   "execution_count": null,
   "metadata": {},
   "outputs": [],
   "source": []
  },
  {
   "cell_type": "code",
   "execution_count": null,
   "metadata": {},
   "outputs": [],
   "source": []
  }
 ],
 "metadata": {
  "kernelspec": {
   "display_name": "Python 3 (ipykernel)",
   "language": "python",
   "name": "python3"
  },
  "language_info": {
   "codemirror_mode": {
    "name": "ipython",
    "version": 3
   },
   "file_extension": ".py",
   "mimetype": "text/x-python",
   "name": "python",
   "nbconvert_exporter": "python",
   "pygments_lexer": "ipython3",
   "version": "3.12.0"
  }
 },
 "nbformat": 4,
 "nbformat_minor": 4
}
