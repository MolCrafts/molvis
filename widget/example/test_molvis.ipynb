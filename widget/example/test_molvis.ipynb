{
 "cells": [
  {
   "cell_type": "code",
   "execution_count": 1,
   "metadata": {},
   "outputs": [
    {
     "name": "stdout",
     "output_type": "stream",
     "text": [
      "env: ANYWIDGET_HRM=1\n"
     ]
    }
   ],
   "source": [
    "%load_ext autoreload\n",
    "%autoreload 2\n",
    "%env ANYWIDGET_HRM = 1\n",
    "import molvis\n",
    "mv = molvis.Molvis()"
   ]
  },
  {
   "cell_type": "code",
   "execution_count": 2,
   "metadata": {},
   "outputs": [],
   "source": [
    "import numpy as np\n",
    "import molpy as mp"
   ]
  },
  {
   "cell_type": "code",
   "execution_count": 3,
   "metadata": {},
   "outputs": [],
   "source": [
    "struct = mp.io.read_struct('/workspaces/molcrafts/PEO.pdb', format='pdb')"
   ]
  },
  {
   "cell_type": "code",
   "execution_count": 5,
   "metadata": {},
   "outputs": [
    {
     "name": "stdout",
     "output_type": "stream",
     "text": [
      "{'id': [1, 2, 3, 4, 5, 6, 7, 8, 9, 10], 'xyz': [[-1.76, 0.403, 0.0], [-0.63, -0.428, 0.0], [0.63, 0.428, 0.0], [1.76, -0.403, 0.0], [-2.514, -0.161, -0.0], [-0.642, -1.07, 0.909], [-0.642, -1.07, -0.909], [0.642, 1.07, -0.909], [0.642, 1.07, 0.909], [2.514, 0.161, 0.0]], 'props': {}} {'i': [1, 1, 2, 2, 2, 3, 3, 3, 4], 'j': [2, 5, 3, 6, 7, 4, 8, 9, 10]}\n"
     ]
    },
    {
     "data": {
      "application/vnd.jupyter.widget-view+json": {
       "model_id": "f3dff5cb9bcf4036b3157e796c2f9818",
       "version_major": 2,
       "version_minor": 1
      },
      "text/plain": [
       "Molvis(ready=True)"
      ]
     },
     "execution_count": 5,
     "metadata": {},
     "output_type": "execute_result"
    }
   ],
   "source": [
    "mv.draw_struct(struct)"
   ]
  },
  {
   "cell_type": "code",
   "execution_count": null,
   "metadata": {},
   "outputs": [],
   "source": []
  }
 ],
 "metadata": {
  "kernelspec": {
   "display_name": "base",
   "language": "python",
   "name": "python3"
  },
  "language_info": {
   "codemirror_mode": {
    "name": "ipython",
    "version": 3
   },
   "file_extension": ".py",
   "mimetype": "text/x-python",
   "name": "python",
   "nbconvert_exporter": "python",
   "pygments_lexer": "ipython3",
   "version": "3.12.5"
  }
 },
 "nbformat": 4,
 "nbformat_minor": 2
}
