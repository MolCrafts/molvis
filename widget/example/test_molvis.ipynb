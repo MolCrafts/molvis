{
 "cells": [
  {
   "cell_type": "code",
   "execution_count": 1,
   "metadata": {},
   "outputs": [
    {
     "name": "stdout",
     "output_type": "stream",
     "text": [
      "env: ANYWIDGET_HRM=1\n"
     ]
    }
   ],
   "source": [
    "%load_ext autoreload\n",
    "%autoreload 2\n",
    "%env ANYWIDGET_HRM=1\n",
    "import numpy as np\n",
    "import molpy as mp\n",
    "import molvis\n",
    "mv = molvis.Molvis()"
   ]
  },
  {
   "cell_type": "code",
   "execution_count": 2,
   "metadata": {},
   "outputs": [
    {
     "data": {
      "application/vnd.jupyter.widget-view+json": {
       "model_id": "1276eb42ccef40fbaa1a28d33863b965",
       "version_major": 2,
       "version_minor": 1
      },
      "text/plain": [
       "Molvis()"
      ]
     },
     "execution_count": 2,
     "metadata": {},
     "output_type": "execute_result"
    }
   ],
   "source": [
    "mv"
   ]
  },
  {
   "cell_type": "code",
   "execution_count": 3,
   "metadata": {},
   "outputs": [
    {
     "ename": "UnboundLocalError",
     "evalue": "cannot access local variable 'frame' where it is not associated with a value",
     "output_type": "error",
     "traceback": [
      "\u001b[0;31m---------------------------------------------------------------------------\u001b[0m",
      "\u001b[0;31mUnboundLocalError\u001b[0m                         Traceback (most recent call last)",
      "Cell \u001b[0;32mIn[3], line 1\u001b[0m\n\u001b[0;32m----> 1\u001b[0m struct \u001b[38;5;241m=\u001b[39m \u001b[43mmp\u001b[49m\u001b[38;5;241;43m.\u001b[39;49m\u001b[43mio\u001b[49m\u001b[38;5;241;43m.\u001b[39;49m\u001b[43mread_struct\u001b[49m\u001b[43m(\u001b[49m\u001b[38;5;124;43m'\u001b[39;49m\u001b[38;5;124;43m/workspaces/molcrafts/PEO.pdb\u001b[39;49m\u001b[38;5;124;43m'\u001b[39;49m\u001b[43m)\u001b[49m\n\u001b[1;32m      2\u001b[0m mv\u001b[38;5;241m.\u001b[39mdraw_struct(struct)\n",
      "File \u001b[0;32m/workspaces/molcrafts/molpy/src/molpy/io/__init__.py:63\u001b[0m, in \u001b[0;36mread_struct\u001b[0;34m(fpath, format)\u001b[0m\n\u001b[1;32m     60\u001b[0m     frame \u001b[38;5;241m=\u001b[39m PDBReader(fpath)\u001b[38;5;241m.\u001b[39mread()\n\u001b[1;32m     62\u001b[0m struct \u001b[38;5;241m=\u001b[39m mp\u001b[38;5;241m.\u001b[39mStruct()\n\u001b[0;32m---> 63\u001b[0m \u001b[38;5;28;01mfor\u001b[39;00m props \u001b[38;5;129;01min\u001b[39;00m \u001b[43mframe\u001b[49m[\u001b[38;5;124m'\u001b[39m\u001b[38;5;124matoms\u001b[39m\u001b[38;5;124m'\u001b[39m]:\n\u001b[1;32m     64\u001b[0m     atom_id \u001b[38;5;241m=\u001b[39m props\u001b[38;5;241m.\u001b[39mpop(\u001b[38;5;124m'\u001b[39m\u001b[38;5;124mid\u001b[39m\u001b[38;5;124m'\u001b[39m)\n\u001b[1;32m     65\u001b[0m     struct\u001b[38;5;241m.\u001b[39madd_atom(mp\u001b[38;5;241m.\u001b[39mAtom(atom_id, \u001b[38;5;241m*\u001b[39m\u001b[38;5;241m*\u001b[39mprops))\n",
      "\u001b[0;31mUnboundLocalError\u001b[0m: cannot access local variable 'frame' where it is not associated with a value"
     ]
    }
   ],
   "source": [
    "struct = mp.io.read_struct('/workspaces/molcrafts/PEO.pdb', format='pdb')\n",
    "mv.draw_struct(struct)"
   ]
  },
  {
   "cell_type": "code",
   "execution_count": null,
   "metadata": {},
   "outputs": [],
   "source": []
  }
 ],
 "metadata": {
  "kernelspec": {
   "display_name": "base",
   "language": "python",
   "name": "python3"
  },
  "language_info": {
   "codemirror_mode": {
    "name": "ipython",
    "version": 3
   },
   "file_extension": ".py",
   "mimetype": "text/x-python",
   "name": "python",
   "nbconvert_exporter": "python",
   "pygments_lexer": "ipython3",
   "version": "3.12.5"
  }
 },
 "nbformat": 4,
 "nbformat_minor": 2
}
