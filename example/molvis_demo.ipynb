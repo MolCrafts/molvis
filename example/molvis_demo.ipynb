{
 "cells": [
  {
   "cell_type": "markdown",
   "id": "e9586b8d",
   "metadata": {},
   "source": [
    "# MolPy Molecular Visualization Demo\n",
    "\n",
    "This notebook demonstrates how to construct and inspect molecular structures using the MolPy `Struct` (AtomicStructure) and `Frame` APIs. We show two examples:\n",
    "\n",
    "1. Dopamine molecule (C8H11NO2)\n",
    "2. Water box (3x3x3 grid of H2O)\n",
    "\n",
    "All code uses only the official MolPy API, following the documentation and source code."
   ]
  },
  {
   "cell_type": "code",
   "execution_count": 1,
   "id": "54eb2712",
   "metadata": {},
   "outputs": [],
   "source": [
    "# Import Required Libraries\n",
    "%load_ext autoreload\n",
    "%autoreload 2\n",
    "import molpy as mp\n",
    "import molvis as mv\n",
    "import numpy as np"
   ]
  },
  {
   "cell_type": "markdown",
   "id": "af4d63e2",
   "metadata": {},
   "source": [
    "## Dopamine Molecule Example\n",
    "\n",
    "We build a dopamine molecule using the Struct API, add atoms and bonds, and convert to a Frame for inspection. The atom table is displayed below."
   ]
  },
  {
   "cell_type": "code",
   "execution_count": 2,
   "id": "5b51cb2a",
   "metadata": {},
   "outputs": [],
   "source": [
    "canvas1 = mv.Molvis(width=1200, height=900)\n",
    "\n",
    "# Construct dopamine molecule using Struct API\n",
    "# Dopamine: C8H11NO2 (simplified 2D coordinates for demo)\n",
    "dopamine = mp.AtomicStructure(name=\"dopamine\")\n",
    "\n",
    "# Atoms (positions are illustrative, not real)\n",
    "atoms = [\n",
    "    mp.Atom(name=\"C1\", element=\"C\", xyz=[0.0, 0.0, 0.0]),\n",
    "    mp.Atom(name=\"C2\", element=\"C\", xyz=[1.4, 0.0, 0.0]),\n",
    "    mp.Atom(name=\"C3\", element=\"C\", xyz=[2.1, 1.2, 0.0]),\n",
    "    mp.Atom(name=\"C4\", element=\"C\", xyz=[1.4, 2.4, 0.0]),\n",
    "    mp.Atom(name=\"C5\", element=\"C\", xyz=[0.0, 2.4, 0.0]),\n",
    "    mp.Atom(name=\"C6\", element=\"C\", xyz=[-0.7, 1.2, 0.0]),\n",
    "    mp.Atom(name=\"N\", element=\"N\", xyz=[3.5, 1.2, 0.0]),\n",
    "    mp.Atom(name=\"O1\", element=\"O\", xyz=[-1.7, 1.2, 0.0]),\n",
    "    mp.Atom(name=\"O2\", element=\"O\", xyz=[0.0, 3.4, 0.0]),\n",
    "]\n",
    "for atom in atoms:\n",
    "    dopamine.add_atom(atom)\n",
    "\n",
    "# Add some bonds (not all for brevity)\n",
    "bonds = [\n",
    "    (0, 1), (1, 2), (2, 3), (3, 4), (4, 5), (5, 0),  # ring\n",
    "    (2, 6),  # C3-N\n",
    "    (5, 7),  # C6-O1\n",
    "    (4, 8),  # C5-O2\n",
    "]\n",
    "for i, j in bonds:\n",
    "    dopamine.add_bond(mp.Bond(dopamine.atoms[i], dopamine.atoms[j]))\n",
    "\n",
    "# Convert to Frame for visualization/inspection\n",
    "frame = dopamine.to_frame()\n",
    "frame.box = mp.Box.cubic(5.0) "
   ]
  },
  {
   "cell_type": "code",
   "execution_count": 3,
   "id": "21f91232-48dd-47f9-b3b9-78060c62e16e",
   "metadata": {},
   "outputs": [
    {
     "data": {
      "application/vnd.jupyter.widget-view+json": {
       "model_id": "26d8233036c647bda0e61dc5b84b49dc",
       "version_major": 2,
       "version_minor": 1
      },
      "text/plain": [
       "Molvis(height=900, width=1200)"
      ]
     },
     "execution_count": 3,
     "metadata": {},
     "output_type": "execute_result"
    }
   ],
   "source": [
    "canvas1.draw_frame(frame)"
   ]
  },
  {
   "cell_type": "markdown",
   "id": "d298cbe7",
   "metadata": {},
   "source": [
    "## Water Box Example\n",
    "\n",
    "We build a 3x3x3 water box (27 H2O molecules) using the Struct API, assign a cubic box, and convert to a Frame for inspection. The atom table is displayed below."
   ]
  },
  {
   "cell_type": "code",
   "execution_count": 4,
   "id": "39072767",
   "metadata": {},
   "outputs": [],
   "source": [
    "# canvas2 = mv.Molvis()\n",
    "\n",
    "# # Construct a water box (3x3x3, 27 molecules, demo)\n",
    "# water_box = mp.AtomicStructure(name=\"water_box\")\n",
    "\n",
    "# # Water molecule geometry (approximate)\n",
    "# O_xyz = np.array([0.0, 0.0, 0.0])\n",
    "# H1_xyz = np.array([0.96, 0.0, 0.0])\n",
    "# H2_xyz = np.array([-0.32, 0.94, 0.0])\n",
    "\n",
    "# # Place water molecules in a 3x3x3 grid\n",
    "# for x in range(3):\n",
    "#     for y in range(3):\n",
    "#         for z in range(3):\n",
    "#             offset = np.array([x*3.0, y*3.0, z*3.0])\n",
    "#             O = mp.Atom(name=f\"O_{x}_{y}_{z}\", element=\"O\", xyz=O_xyz + offset)\n",
    "#             H1 = mp.Atom(name=f\"H1_{x}_{y}_{z}\", element=\"H\", xyz=H1_xyz + offset)\n",
    "#             H2 = mp.Atom(name=f\"H2_{x}_{y}_{z}\", element=\"H\", xyz=H2_xyz + offset)\n",
    "#             water_box.add_atom(O)\n",
    "#             water_box.add_atom(H1)\n",
    "#             water_box.add_atom(H2)\n",
    "#             water_box.add_bond(mp.Bond(O, H1))\n",
    "#             water_box.add_bond(mp.Bond(O, H2))\n",
    "\n",
    "# # Assign a cubic box\n",
    "# grid_size = 3 * 3.0\n",
    "# water_box['box'] = mp.Box.cubic(length=grid_size)\n",
    "\n",
    "# # Convert to Frame for visualization/inspection\n",
    "# frame = water_box.to_frame()\n"
   ]
  },
  {
   "cell_type": "markdown",
   "id": "1ec3a9cc",
   "metadata": {},
   "source": [
    "# Crystal Structure Example\n",
    "We also demonstrate how to create a crystal structure using the `Struct` API, specifically a simple cubic lattice of sodium chloride (NaCl)."
   ]
  },
  {
   "cell_type": "code",
   "execution_count": 5,
   "id": "0ff9edf4",
   "metadata": {},
   "outputs": [],
   "source": [
    "# canvas3 = mv.Molvis(width=1200, height=900)\n",
    "\n",
    "# # NaCl 晶胞参数\n",
    "# a = 1.0\n",
    "# from molpy.builder.bulk import FCCBuilder\n",
    "# from molpy.core.region import BoxRegion\n",
    "\n",
    "# region = BoxRegion([3*a, 3*a, 3*a], [0, 0, 0])  # 3x3x3 超胞\n",
    "# builder = FCCBuilder(a)\n",
    "# # NaCl原胞: Na (0,0,0), Cl (0.5,0.5,0.5)\n",
    "# elements = [\"Na\", \"Cl\"]\n",
    "# frac_coords = np.array([[0,0,0], [0.5,0.5,0.5]])\n",
    "# nacl = builder.tile(region, elements, frac_coords)\n",
    "# frame = nacl.to_frame()\n",
    "# frame.box = mp.Box.cubic(3*a)\n",
    "# canvas3.draw_frame(frame)"
   ]
  },
  {
   "cell_type": "code",
   "execution_count": null,
   "id": "1fafcd84",
   "metadata": {},
   "outputs": [],
   "source": []
  },
  {
   "cell_type": "code",
   "execution_count": null,
   "id": "6a04ed92",
   "metadata": {},
   "outputs": [],
   "source": []
  }
 ],
 "metadata": {
  "kernelspec": {
   "display_name": "base",
   "language": "python",
   "name": "python3"
  },
  "language_info": {
   "codemirror_mode": {
    "name": "ipython",
    "version": 3
   },
   "file_extension": ".py",
   "mimetype": "text/x-python",
   "name": "python",
   "nbconvert_exporter": "python",
   "pygments_lexer": "ipython3",
   "version": "3.12.10"
  }
 },
 "nbformat": 4,
 "nbformat_minor": 5
}
