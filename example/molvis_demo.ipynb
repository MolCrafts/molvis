{
 "cells": [
  {
   "cell_type": "code",
   "execution_count": 3,
   "id": "5b51cb2a",
   "metadata": {},
   "outputs": [
    {
     "data": {
      "application/vnd.jupyter.widget-view+json": {
       "model_id": "b133090aa745474190bd13f0a9ea9e2f",
       "version_major": 2,
       "version_minor": 1
      },
      "text/plain": [
       "Molvis(width=600)"
      ]
     },
     "execution_count": 3,
     "metadata": {},
     "output_type": "execute_result"
    }
   ],
   "source": [
    "canvas1 = mv.Molvis(width=600, height=600, reload=True)\n",
    "\n",
    "# Construct dopamine molecule using Struct API\n",
    "# Dopamine: C8H11NO2 (simplified 2D coordinates for demo)\n",
    "dopamine = mp.Atomistic(name=\"dopamine\")\n",
    "\n",
    "# Atoms (positions are illustrative, not real)\n",
    "atoms = [\n",
    "    mp.Atom(id=1, name=\"C1\", element=\"C\", xyz=[0.0, 0.0, 0.0]),\n",
    "    mp.Atom(id=2, name=\"C2\", element=\"C\", xyz=[1.4, 0.0, 0.0]),\n",
    "    mp.Atom(id=3, name=\"C3\", element=\"C\", xyz=[2.1, 1.2, 0.0]),\n",
    "    mp.Atom(id=4, name=\"C4\", element=\"C\", xyz=[1.4, 2.4, 0.0]),\n",
    "    mp.Atom(id=5, name=\"C5\", element=\"C\", xyz=[0.0, 2.4, 0.0]),\n",
    "    mp.Atom(id=6, name=\"C6\", element=\"C\", xyz=[-0.7, 1.2, 0.0]),\n",
    "    mp.Atom(id=7, name=\"N\", element=\"N\", xyz=[3.5, 1.2, 0.0]),\n",
    "    mp.Atom(id=8, name=\"O1\", element=\"O\", xyz=[-1.7, 1.2, 0.0]),\n",
    "    mp.Atom(id=9, name=\"O2\", element=\"O\", xyz=[0.0, 3.4, 0.0]),\n",
    "]\n",
    "for atom in atoms:\n",
    "    dopamine.add_atom(atom)\n",
    "\n",
    "# Add some bonds (not all for brevity)\n",
    "bonds = [\n",
    "    (0, 1), (1, 2), (2, 3), (3, 4), (4, 5), (5, 0),  # ring\n",
    "    (2, 6),  # C3-N\n",
    "    (5, 7),  # C6-O1\n",
    "    (4, 8),  # C5-O2\n",
    "]\n",
    "for i, j in bonds:\n",
    "    dopamine.add_bond(mp.Bond(dopamine.atoms[i], dopamine.atoms[j]))\n",
    "\n",
    "# Convert to Frame for visualization/inspection\n",
    "frame = dopamine.to_frame()\n",
    "frame.box = mp.Box.cubic(5.0) \n",
    "\n",
    "canvas1.draw_frame(frame)\n",
    "canvas1"
   ]
  },
  {
   "cell_type": "markdown",
   "id": "e9586b8d",
   "metadata": {},
   "source": [
    "# MolPy Molecular Visualization Demo\n",
    "\n",
    "This notebook demonstrates how to construct and inspect molecular structures using the MolPy `Struct` (Atomistic) and `Frame` APIs. We show two examples:\n",
    "\n",
    "1. Dopamine molecule (C8H11NO2)\n",
    "2. Water box (3x3x3 grid of H2O)\n",
    "\n",
    "All code uses only the official MolPy API, following the documentation and source code."
   ]
  },
  {
   "cell_type": "code",
   "execution_count": 1,
   "id": "54eb2712",
   "metadata": {},
   "outputs": [],
   "source": [
    "# Import Required Libraries\n",
    "%load_ext autoreload\n",
    "%autoreload 2\n",
    "import molpy as mp\n",
    "import molvis as mv\n",
    "import numpy as np"
   ]
  },
  {
   "cell_type": "markdown",
   "id": "af4d63e2",
   "metadata": {},
   "source": [
    "## Dopamine Molecule Example\n",
    "\n",
    "We build a dopamine molecule using the Struct API, add atoms and bonds, and convert to a Frame for inspection. The atom table is displayed below."
   ]
  },
  {
   "cell_type": "code",
   "execution_count": null,
   "id": "1f00bb78",
   "metadata": {},
   "outputs": [],
   "source": []
  }
 ],
 "metadata": {
  "kernelspec": {
   "display_name": "base",
   "language": "python",
   "name": "python3"
  },
  "language_info": {
   "codemirror_mode": {
    "name": "ipython",
    "version": 3
   },
   "file_extension": ".py",
   "mimetype": "text/x-python",
   "name": "python",
   "nbconvert_exporter": "python",
   "pygments_lexer": "ipython3",
   "version": "3.12.10"
  }
 },
 "nbformat": 4,
 "nbformat_minor": 5
}
