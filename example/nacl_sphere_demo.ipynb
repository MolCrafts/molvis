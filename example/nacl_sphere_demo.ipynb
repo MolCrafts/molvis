{
 "cells": [
  {
   "cell_type": "markdown",
   "id": "dbd551e4",
   "metadata": {},
   "source": [
    "# Molvis Example: Spherical NaCl Crystal Visualization\n",
    "\n",
    "本例演示如何用 molpy + molvis 构建并可视化一个球形区域的 NaCl 晶体。"
   ]
  },
  {
   "cell_type": "code",
   "execution_count": 1,
   "id": "9c36adda",
   "metadata": {},
   "outputs": [],
   "source": [
    "import molpy as mp\n",
    "import molvis as mv\n",
    "import numpy as np\n",
    "from molpy.builder.bulk import FCCBuilder\n",
    "from molpy.core.region import SphereRegion\n",
    "from molpy.core.struct import Atomistic"
   ]
  },
  {
   "cell_type": "markdown",
   "id": "dcb140b2",
   "metadata": {},
   "source": [
    "## 构建 NaCl 晶体模板（Na 和 Cl 两种原子）"
   ]
  },
  {
   "cell_type": "code",
   "execution_count": 2,
   "id": "4c2da831",
   "metadata": {},
   "outputs": [],
   "source": [
    "def nacl_primitive_template(a=1.0):\n",
    "    mol = Atomistic()\n",
    "    mol.def_atom(name=\"Na\", element=\"Na\", xyz=[0, 0, 0])\n",
    "    mol.def_atom(name=\"Cl\", element=\"Cl\", xyz=[0.5 * a, 0.5 * a, 0.5 * a])\n",
    "    return mol\n",
    "\n",
    "a = 5.64  # 晶格常数\n",
    "nacl_primitive = nacl_primitive_template(a)"
   ]
  },
  {
   "cell_type": "markdown",
   "id": "4506593d",
   "metadata": {},
   "source": [
    "## 构建球形区域的 NaCl 晶体结构并可视化"
   ]
  },
  {
   "cell_type": "code",
   "execution_count": null,
   "id": "9836e025",
   "metadata": {},
   "outputs": [
    {
     "ename": "NameError",
     "evalue": "name 'nacl' is not defined",
     "output_type": "error",
     "traceback": [
      "\u001b[31m---------------------------------------------------------------------------\u001b[39m",
      "\u001b[31mNameError\u001b[39m                                 Traceback (most recent call last)",
      "\u001b[36mCell\u001b[39m\u001b[36m \u001b[39m\u001b[32mIn[3]\u001b[39m\u001b[32m, line 6\u001b[39m\n\u001b[32m      4\u001b[39m region = SphereRegion(origin=center, radius=radius)\n\u001b[32m      5\u001b[39m builder = FCCBuilder(a)\n\u001b[32m----> \u001b[39m\u001b[32m6\u001b[39m crystal = builder.fill_basis(region, \u001b[43mnacl\u001b[49m)\n\u001b[32m      7\u001b[39m canvas = mv.Molvis(width=\u001b[32m800\u001b[39m, height=\u001b[32m600\u001b[39m)\n\u001b[32m      8\u001b[39m \u001b[38;5;66;03m# canvas.draw_frame(crystal.to_frame())\u001b[39;00m\n",
      "\u001b[31mNameError\u001b[39m: name 'nacl' is not defined"
     ]
    }
   ],
   "source": [
    "a = 5.64  # NaCl 晶格常数 (Å)\n",
    "center = [10, 10, 10]\n",
    "radius = 8\n",
    "region = SphereRegion(origin=center, radius=radius)\n",
    "builder = FCCBuilder(a)\n",
    "crystal = builder.fill_basis(region, nacl_primitive)\n",
    "canvas = mv.Molvis(width=800, height=600)\n",
    "# canvas.draw_frame(crystal.to_frame())"
   ]
  },
  {
   "cell_type": "code",
   "execution_count": null,
   "id": "39ea84af",
   "metadata": {},
   "outputs": [],
   "source": []
  },
  {
   "cell_type": "code",
   "execution_count": null,
   "id": "e5252365",
   "metadata": {},
   "outputs": [
    {
     "ename": "NameError",
     "evalue": "name 'nacl_primitive' is not defined",
     "output_type": "error",
     "traceback": [
      "\u001b[31m---------------------------------------------------------------------------\u001b[39m",
      "\u001b[31mNameError\u001b[39m                                 Traceback (most recent call last)",
      "\u001b[36mCell\u001b[39m\u001b[36m \u001b[39m\u001b[32mIn[6]\u001b[39m\u001b[32m, line 8\u001b[39m\n\u001b[32m      6\u001b[39m box_region = BoxRegion(box_hi, box_lo)\n\u001b[32m      7\u001b[39m builder = FCCBuilder(a)\n\u001b[32m----> \u001b[39m\u001b[32m8\u001b[39m nacl_box = builder.fill_basis(box_region, \u001b[43mnacl_primitive\u001b[49m)\n\u001b[32m      9\u001b[39m frame = nacl_box.to_frame()\n\u001b[32m     10\u001b[39m frame.box = mp.Box.cubic(\u001b[32m20\u001b[39m)\n",
      "\u001b[31mNameError\u001b[39m: name 'nacl_primitive' is not defined"
     ]
    }
   ],
   "source": [
    "# Box区域内的NaCl晶体构建与可视化\n",
    "from molpy.core.region import BoxRegion\n",
    "\n",
    "box_lo = [0, 0, 0]\n",
    "box_hi = [10, 10, 10]\n",
    "box_region = BoxRegion(box_hi, box_lo)\n",
    "builder = FCCBuilder(a)\n",
    "nacl_box = builder.fill_basis(box_region, nacl_primitive)\n",
    "frame = nacl_box.to_frame()\n",
    "frame.box = mp.Box.cubic(20)\n",
    "frame = frame.wrapped()\n",
    "canvas_box = mv.Molvis(width=800, height=600)\n",
    "canvas_box.draw_frame(frame)"
   ]
  },
  {
   "cell_type": "code",
   "execution_count": null,
   "id": "c0341a62",
   "metadata": {},
   "outputs": [],
   "source": []
  }
 ],
 "metadata": {
  "kernelspec": {
   "display_name": "base",
   "language": "python",
   "name": "python3"
  },
  "language_info": {
   "codemirror_mode": {
    "name": "ipython",
    "version": 3
   },
   "file_extension": ".py",
   "mimetype": "text/x-python",
   "name": "python",
   "nbconvert_exporter": "python",
   "pygments_lexer": "ipython3",
   "version": "3.12.10"
  }
 },
 "nbformat": 4,
 "nbformat_minor": 5
}
