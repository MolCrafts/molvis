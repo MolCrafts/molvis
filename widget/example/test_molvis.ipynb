{
 "cells": [
  {
   "cell_type": "code",
   "execution_count": 1,
   "metadata": {},
   "outputs": [
    {
     "name": "stdout",
     "output_type": "stream",
     "text": [
      "env: ANYWIDGET_HMR=1\n"
     ]
    },
    {
     "name": "stderr",
     "output_type": "stream",
     "text": [
      "/opt/conda/lib/python3.12/site-packages/anywidget/_util.py:267: UserWarning: anywidget: Live-reloading feature is disabled. To enable, please install the 'watchfiles' package.\n",
      "  start_thread=_should_start_thread(path),\n"
     ]
    }
   ],
   "source": [
    "%env ANYWIDGET_HMR=1\n",
    "import molpy as mp\n",
    "import molvis as mv\n",
    "import numpy as np\n",
    "\n",
    "import logging\n",
    "logging.basicConfig(level=logging.INFO)"
   ]
  },
  {
   "cell_type": "code",
   "execution_count": 2,
   "metadata": {},
   "outputs": [
    {
     "data": {
      "text/plain": [
       "{'atoms':     id name resName chainID  resSeq      x      y      z element\n",
       " 0    1   Li     LIT               1  0.000  0.000  0.000      Li\n",
       " 1    2    N     FSI               1  2.347  0.000  0.000       N\n",
       " 2    3   S1     FSI               1  3.147  1.432  0.000       S\n",
       " 3    4   S2     FSI               1  3.147 -1.432  0.000       S\n",
       " 4    5   O1     FSI               1  2.547  2.321  0.954       O\n",
       " 5    6   O2     FSI               1  2.547  1.821 -1.254       O\n",
       " 6    7   O3     FSI               1  2.547 -2.321  0.954       O\n",
       " 7    8   O4     FSI               1  2.547 -1.821 -1.254       O\n",
       " 8    9   C1     FSI               1  4.847  1.232  0.000       C\n",
       " 9   10   C2     FSI               1  4.847 -1.232  0.000       C\n",
       " 10  11   F1     FSI               1  5.347  1.832  1.089       F\n",
       " 11  12   F2     FSI               1  5.347  1.832 -1.089       F\n",
       " 12  13   F3     FSI               1  5.347  0.000  0.000       F\n",
       " 13  14   F4     FSI               1  5.347 -1.832  1.089       F\n",
       " 14  15   F5     FSI               1  5.347 -1.832 -1.089       F\n",
       " 15  16   F6     FSI               1  5.347  0.000  0.000       F,\n",
       " 'bonds':     i   j\n",
       " 0   0   4\n",
       " 1   0   5\n",
       " 2   0   6\n",
       " 3   0   7\n",
       " 4   1   2\n",
       " 5   1   3\n",
       " 6   2   4\n",
       " 7   2   5\n",
       " 8   2   8\n",
       " 9   3   6\n",
       " 10  3   7\n",
       " 11  3   9\n",
       " 12  8  10\n",
       " 13  8  11\n",
       " 14  8  12\n",
       " 15  9  13\n",
       " 16  9  14\n",
       " 17  9  15}"
      ]
     },
     "execution_count": 2,
     "metadata": {},
     "output_type": "execute_result"
    }
   ],
   "source": [
    "tfsi = mp.io.read_pdb('./litfsi.pdb')\n",
    "tfsi.frame"
   ]
  },
  {
   "cell_type": "code",
   "execution_count": 3,
   "metadata": {},
   "outputs": [],
   "source": [
    "canvas = mv.Molvis()"
   ]
  },
  {
   "cell_type": "code",
   "execution_count": 6,
   "metadata": {},
   "outputs": [
    {
     "name": "stderr",
     "output_type": "stream",
     "text": [
      "INFO:molvis-widget-py:send_cmd: {'jsonrpc': '2.0', 'method': 'draw_frame', 'params': {}, 'id': 139720895255408} with 1 buffers\n"
     ]
    },
    {
     "data": {
      "application/vnd.jupyter.widget-view+json": {
       "model_id": "576fd462938f4735903ee841c40df871",
       "version_major": 2,
       "version_minor": 1
      },
      "text/plain": [
       "Molvis(session_id=139720895255408)"
      ]
     },
     "execution_count": 6,
     "metadata": {},
     "output_type": "execute_result"
    }
   ],
   "source": [
    "canvas.draw_frame(tfsi.frame)"
   ]
  },
  {
   "cell_type": "code",
   "execution_count": null,
   "metadata": {},
   "outputs": [],
   "source": []
  }
 ],
 "metadata": {
  "kernelspec": {
   "display_name": "Python 3 (ipykernel)",
   "language": "python",
   "name": "python3"
  },
  "language_info": {
   "codemirror_mode": {
    "name": "ipython",
    "version": 3
   },
   "file_extension": ".py",
   "mimetype": "text/x-python",
   "name": "python",
   "nbconvert_exporter": "python",
   "pygments_lexer": "ipython3",
   "version": "3.12.8"
  }
 },
 "nbformat": 4,
 "nbformat_minor": 4
}
